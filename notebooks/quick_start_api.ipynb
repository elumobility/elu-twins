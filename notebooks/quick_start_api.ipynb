{
 "cells": [
  {
   "cell_type": "code",
   "execution_count": 1,
   "id": "ad9e2628-b9ee-497c-b3c7-29fd13827dd2",
   "metadata": {},
   "outputs": [],
   "source": [
    "import requests\n",
    "url = \"http://localhost:8000\"\n",
    "private_url = \"http://localhost:8800\"\n",
    "create_user = f\"{private_url}/user/\"\n",
    "token_url = f\"{url}/token\"\n",
    "vehicle = f\"{url}/twin/vehicle/\"\n",
    "charger = f\"{url}/twin/charge-point/\"\n",
    "user=\"test@emobility.com\"\n",
    "password=\"Test1234\"\n"
   ]
  },
  {
   "cell_type": "code",
   "execution_count": null,
   "id": "03179fc1-e6a6-49d5-b0b1-aa793d21eac9",
   "metadata": {},
   "outputs": [],
   "source": []
  },
  {
   "cell_type": "code",
   "execution_count": 2,
   "id": "41dc400d-94bb-457d-a7d9-64eceda18c16",
   "metadata": {},
   "outputs": [],
   "source": [
    "def get_token(user, password):\n",
    "    headers = {\n",
    "        'accept': 'application/json',\n",
    "        'Content-Type': 'application/x-www-form-urlencoded',\n",
    "    }\n",
    "    \n",
    "    data = {\n",
    "        'grant_type': '',\n",
    "        'username': user,\n",
    "        'password': password,\n",
    "        'scope': '',\n",
    "        'client_id': '',\n",
    "        'client_secret': '',\n",
    "    }\n",
    "    \n",
    "    response = requests.post(token_url, headers=headers, data=data)\n",
    "    if response.status_code == 200:\n",
    "        print(\"token generated\")\n",
    "        token = response.json().get(\"access_token\")\n",
    "    else:\n",
    "        print(response.text)\n",
    "    \n",
    "    headers = {\n",
    "        'accept': 'application/json',\n",
    "        'Authorization': f'Bearer {token}',\n",
    "        'Content-Type': 'application/json',\n",
    "    }\n",
    "    return headers"
   ]
  },
  {
   "cell_type": "code",
   "execution_count": 3,
   "id": "dad4134d-b2e9-4bbd-a628-c70985ed917c",
   "metadata": {},
   "outputs": [
    {
     "name": "stdout",
     "output_type": "stream",
     "text": [
      "Internal Server Error\n"
     ]
    },
    {
     "ename": "UnboundLocalError",
     "evalue": "cannot access local variable 'token' where it is not associated with a value",
     "output_type": "error",
     "traceback": [
      "\u001b[0;31m---------------------------------------------------------------------------\u001b[0m",
      "\u001b[0;31mUnboundLocalError\u001b[0m                         Traceback (most recent call last)",
      "Cell \u001b[0;32mIn[3], line 1\u001b[0m\n\u001b[0;32m----> 1\u001b[0m headers \u001b[38;5;241m=\u001b[39m \u001b[43mget_token\u001b[49m\u001b[43m(\u001b[49m\u001b[43muser\u001b[49m\u001b[38;5;241;43m=\u001b[39;49m\u001b[43muser\u001b[49m\u001b[43m,\u001b[49m\u001b[43m \u001b[49m\u001b[43mpassword\u001b[49m\u001b[38;5;241;43m=\u001b[39;49m\u001b[43mpassword\u001b[49m\u001b[43m)\u001b[49m\n",
      "Cell \u001b[0;32mIn[2], line 25\u001b[0m, in \u001b[0;36mget_token\u001b[0;34m(user, password)\u001b[0m\n\u001b[1;32m     20\u001b[0m \u001b[38;5;28;01melse\u001b[39;00m:\n\u001b[1;32m     21\u001b[0m     \u001b[38;5;28mprint\u001b[39m(response\u001b[38;5;241m.\u001b[39mtext)\n\u001b[1;32m     23\u001b[0m headers \u001b[38;5;241m=\u001b[39m {\n\u001b[1;32m     24\u001b[0m     \u001b[38;5;124m'\u001b[39m\u001b[38;5;124maccept\u001b[39m\u001b[38;5;124m'\u001b[39m: \u001b[38;5;124m'\u001b[39m\u001b[38;5;124mapplication/json\u001b[39m\u001b[38;5;124m'\u001b[39m,\n\u001b[0;32m---> 25\u001b[0m     \u001b[38;5;124m'\u001b[39m\u001b[38;5;124mAuthorization\u001b[39m\u001b[38;5;124m'\u001b[39m: \u001b[38;5;124mf\u001b[39m\u001b[38;5;124m'\u001b[39m\u001b[38;5;124mBearer \u001b[39m\u001b[38;5;132;01m{\u001b[39;00m\u001b[43mtoken\u001b[49m\u001b[38;5;132;01m}\u001b[39;00m\u001b[38;5;124m'\u001b[39m,\n\u001b[1;32m     26\u001b[0m     \u001b[38;5;124m'\u001b[39m\u001b[38;5;124mContent-Type\u001b[39m\u001b[38;5;124m'\u001b[39m: \u001b[38;5;124m'\u001b[39m\u001b[38;5;124mapplication/json\u001b[39m\u001b[38;5;124m'\u001b[39m,\n\u001b[1;32m     27\u001b[0m }\n\u001b[1;32m     28\u001b[0m \u001b[38;5;28;01mreturn\u001b[39;00m headers\n",
      "\u001b[0;31mUnboundLocalError\u001b[0m: cannot access local variable 'token' where it is not associated with a value"
     ]
    }
   ],
   "source": [
    "headers = get_token(user=user, password=password)"
   ]
  },
  {
   "cell_type": "code",
   "execution_count": null,
   "id": "5fc330c6-38fb-4a8c-ba4d-199a6e4c4e86",
   "metadata": {},
   "outputs": [],
   "source": [
    "headers"
   ]
  },
  {
   "cell_type": "code",
   "execution_count": null,
   "id": "8b1465e0-e7b6-4f19-bdd5-5fa50d71929e",
   "metadata": {},
   "outputs": [],
   "source": [
    "def create_vehicles(name='Renault e-Dokker', \n",
    "                    battery_capacity_kwh=100, maximum_charging_rate_kw=50, number_of_vehicles=10): \n",
    "    vehicles = []\n",
    "    for i in range( number_of_vehicles):\n",
    "        json_data = {\n",
    "            'name': f'{name} {i}',\n",
    "            'battery_capacity': battery_capacity_kwh,\n",
    "            'maximum_charging_rate': maximum_charging_rate_kw\n",
    "        }\n",
    "        \n",
    "        response = requests.post(vehicle, headers=headers, json=json_data)\n",
    "        if response.status_code == 200:\n",
    "            print(\"Vechicle created\")\n",
    "            vehicle_output = response.json()\n",
    "            vehicles.append(vehicle_output)\n",
    "        else:\n",
    "            print(response.text)\n",
    "    return vehicles"
   ]
  },
  {
   "cell_type": "markdown",
   "id": "43ea3e84-b548-4d37-bff3-ee6a78208e0e",
   "metadata": {},
   "source": [
    "### Create vehicles"
   ]
  },
  {
   "cell_type": "code",
   "execution_count": null,
   "id": "579af9b1-ab4d-4e4c-a4b0-c56c4a5acf39",
   "metadata": {},
   "outputs": [],
   "source": [
    "vehicles = create_vehicles(name='Renault e-Dokker', \n",
    "                    battery_capacity_kwh=100, maximum_charging_rate_kw=50, number_of_vehicles=1)"
   ]
  },
  {
   "cell_type": "markdown",
   "id": "6b271c22-254a-44b0-aaa2-f30d7f99be58",
   "metadata": {},
   "source": [
    "### Create chargepoints\n",
    "- each chargepoint has two evses with one connector each. You can modify this to your liking."
   ]
  },
  {
   "cell_type": "code",
   "execution_count": null,
   "id": "bb296304-ed2c-4e8c-9fff-fcd8c6b433b7",
   "metadata": {},
   "outputs": [],
   "source": [
    "def create_charge_points(name, max_dc_power_kw, max_ac_power_kw, csms_url,\n",
    "                        connector_type, number_chargers):\n",
    "    charge_points = []\n",
    "    for i in range(number_chargers):\n",
    "        json_data = {\n",
    "              \"name\": f\"{name} {i}\",\n",
    "              \"maximum_dc_power\": max_dc_power_kw,\n",
    "              \"maximum_ac_power\": max_ac_power_kw,\n",
    "              \"csms_url\": csms_url,\n",
    "              \"evses\": [\n",
    "                  {\"connectors\":[{\"connector_type\": connector_type}]}, \n",
    "                  {\"connectors\":[{\"connector_type\": connector_type}]}]\n",
    "            }\n",
    "            \n",
    "        response = requests.post(charger, headers=headers, json=json_data)\n",
    "            \n",
    "        if response.status_code == 200:\n",
    "            print(\"Charge point created\")\n",
    "            charger_output = response.json()\n",
    "            charge_points.append(charger_output)\n",
    "        else:\n",
    "            print(response.text)\n",
    "    return charge_points"
   ]
  },
  {
   "cell_type": "code",
   "execution_count": null,
   "id": "a6eb031c-4098-4003-ad7b-34aaca9a4c04",
   "metadata": {},
   "outputs": [],
   "source": [
    "charge_points = create_charge_points(name='Marseille charger', max_dc_power_kw=150,\n",
    "                                     max_ac_power_kw=20, \n",
    "                                     csms_url=\"ws://csms:9000\",\n",
    "                                     connector_type=\"cCCS1\", number_chargers=1)"
   ]
  },
  {
   "cell_type": "markdown",
   "id": "20702ce1-66bc-4b28-811c-2c160827bccf",
   "metadata": {},
   "source": [
    "### Connect the chargers so they are available for charging"
   ]
  },
  {
   "cell_type": "code",
   "execution_count": null,
   "id": "edfcd0a3-a677-418e-b717-666617e270b4",
   "metadata": {},
   "outputs": [],
   "source": [
    "def connect_chargers(charge_points):\n",
    "    for charger in charge_points:\n",
    "        json_data = {\n",
    "                \"charge_point_id\": charger.get(\"id\")\n",
    "            }\n",
    "            \n",
    "        response = requests.post(url=url + \"/twin/charge-point/action/connect-charger\", headers=headers, json=json_data)\n",
    "            \n",
    "        if response.status_code == 200:\n",
    "            print(response.json())\n",
    "        else:\n",
    "            print(response.text)"
   ]
  },
  {
   "cell_type": "code",
   "execution_count": null,
   "id": "adf3f6a2-b801-4d51-91e4-1d6f1ad4b8c2",
   "metadata": {},
   "outputs": [],
   "source": [
    "connect_chargers(charge_points=charge_points)"
   ]
  },
  {
   "cell_type": "markdown",
   "id": "17756129-ae31-4e6c-94f1-5ca62c1d00da",
   "metadata": {},
   "source": [
    "### Start charging sessions\n",
    "- In the example below we start the charging session on the first connector of the first evse"
   ]
  },
  {
   "cell_type": "code",
   "execution_count": null,
   "id": "fd550926-75ce-4d8e-a288-673629a2506e",
   "metadata": {},
   "outputs": [],
   "source": [
    "from time import sleep\n",
    "\n",
    "def start_transactions(charge_points, vehicles, number_of_start_transactions=10):\n",
    "    transactions = []\n",
    "    for charger, vehicle in zip(charge_points[:number_of_start_transactions],\n",
    "                                vehicles[:number_of_start_transactions]):\n",
    "        sleep(1)\n",
    "    \n",
    "        json_data = {\n",
    "            \"connector_id\": charger.get(\"evses\")[0].get(\"connectors\")[0].get(\"id\"),\n",
    "            \"vehicle_id\": vehicle.get(\"id\")\n",
    "        }\n",
    "        \n",
    "        connect = url+\"/twin/charge-point/action/start-transaction\"\n",
    "        response = requests.post(connect, headers=headers, json=json_data)\n",
    "        \n",
    "        if response.status_code == 200:\n",
    "            transaction = response.json()\n",
    "            transactions.append(transaction)\n",
    "            print(\"done\")\n",
    "        else:\n",
    "            print(response.text)\n",
    "    return transactions\n"
   ]
  },
  {
   "cell_type": "code",
   "execution_count": null,
   "id": "f6e4d8ec-6652-41ed-b5cd-a66a13244dbd",
   "metadata": {},
   "outputs": [],
   "source": [
    "transactions = start_transactions(charge_points=charge_points, vehicles=vehicles, number_of_start_transactions=10)"
   ]
  },
  {
   "cell_type": "markdown",
   "id": "95af63c5-86ed-49ff-823a-03e8166c66b7",
   "metadata": {},
   "source": [
    "### Stop transactions\n",
    "- Using the transaction id we stop each transaction"
   ]
  },
  {
   "cell_type": "code",
   "execution_count": null,
   "id": "efdf2b92-b75f-4879-9b8b-53450a04a3be",
   "metadata": {},
   "outputs": [],
   "source": [
    "def stop_transactions(transactions):\n",
    "    for transaction in transactions:\n",
    "        json_data = {\n",
    "            \"transaction_id\": transaction.get(\"id\")\n",
    "    }\n",
    "        \n",
    "        connect = url + \"/twin/charge-point/action/stop-transaction\"\n",
    "        response = requests.post(connect, headers=headers, json=json_data)\n",
    "        \n",
    "        if response.status_code == 200:\n",
    "            print(response.json())\n",
    "        else:\n",
    "            print(response.text)"
   ]
  },
  {
   "cell_type": "code",
   "execution_count": null,
   "id": "d0dd6573-63b1-4fe4-8096-4cefe66cc1d4",
   "metadata": {},
   "outputs": [],
   "source": [
    "stop_transactions(transactions=transactions)"
   ]
  }
 ],
 "metadata": {
  "kernelspec": {
   "display_name": "Python 3 (ipykernel)",
   "language": "python",
   "name": "python3"
  },
  "language_info": {
   "codemirror_mode": {
    "name": "ipython",
    "version": 3
   },
   "file_extension": ".py",
   "mimetype": "text/x-python",
   "name": "python",
   "nbconvert_exporter": "python",
   "pygments_lexer": "ipython3",
   "version": "3.11.5"
  }
 },
 "nbformat": 4,
 "nbformat_minor": 5
}
